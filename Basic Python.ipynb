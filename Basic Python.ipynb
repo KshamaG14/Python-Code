{
 "cells": [
  {
   "cell_type": "markdown",
   "id": "cf0001ba",
   "metadata": {},
   "source": [
    "## variable define"
   ]
  },
  {
   "cell_type": "code",
   "execution_count": 1,
   "id": "0b5dc399",
   "metadata": {},
   "outputs": [
    {
     "name": "stdout",
     "output_type": "stream",
     "text": [
      "5\n"
     ]
    }
   ],
   "source": [
    "a=5\n",
    "print(a)"
   ]
  },
  {
   "cell_type": "code",
   "execution_count": 2,
   "id": "eb121d15",
   "metadata": {},
   "outputs": [
    {
     "name": "stdout",
     "output_type": "stream",
     "text": [
      "0.5\n"
     ]
    }
   ],
   "source": [
    "a=0.5\n",
    "print(a)"
   ]
  },
  {
   "cell_type": "code",
   "execution_count": 3,
   "id": "166cc8a5",
   "metadata": {},
   "outputs": [
    {
     "name": "stdout",
     "output_type": "stream",
     "text": [
      "abc@123\n"
     ]
    }
   ],
   "source": [
    "b=\"abc@123\"\n",
    "print(b)"
   ]
  },
  {
   "cell_type": "markdown",
   "id": "edddd503",
   "metadata": {},
   "source": [
    "## Identify class"
   ]
  },
  {
   "cell_type": "code",
   "execution_count": 1,
   "id": "aa9fdf40",
   "metadata": {},
   "outputs": [
    {
     "name": "stdout",
     "output_type": "stream",
     "text": [
      "<class 'str'>\n",
      "<class 'int'>\n",
      "<class 'float'>\n"
     ]
    }
   ],
   "source": [
    "a=\"Solapur\"\n",
    "print(type(a))\n",
    "b=95\n",
    "print(type(b))\n",
    "c=0.5\n",
    "print(type(c))"
   ]
  },
  {
   "cell_type": "markdown",
   "id": "db90704b",
   "metadata": {},
   "source": [
    "## Python Output Using print() function"
   ]
  },
  {
   "cell_type": "code",
   "execution_count": 1,
   "id": "8534a296",
   "metadata": {},
   "outputs": [
    {
     "name": "stdout",
     "output_type": "stream",
     "text": [
      "The value of a: 5\n"
     ]
    }
   ],
   "source": [
    "a=5\n",
    "print(\"The value of a:\",a)"
   ]
  },
  {
   "cell_type": "markdown",
   "id": "07c2363a",
   "metadata": {},
   "source": [
    "## Python Program to Print Hello world!"
   ]
  },
  {
   "cell_type": "code",
   "execution_count": 2,
   "id": "952a3fdb",
   "metadata": {},
   "outputs": [
    {
     "name": "stdout",
     "output_type": "stream",
     "text": [
      "Hello ,world!\n"
     ]
    }
   ],
   "source": [
    "print(\"Hello ,world!\")"
   ]
  },
  {
   "cell_type": "markdown",
   "id": "405fee9a",
   "metadata": {},
   "source": [
    "## Addition of two numbers"
   ]
  },
  {
   "cell_type": "markdown",
   "id": "fee0a122",
   "metadata": {},
   "source": [
    "## Addition of two integer numbers"
   ]
  },
  {
   "cell_type": "code",
   "execution_count": 3,
   "id": "8355529e",
   "metadata": {},
   "outputs": [
    {
     "name": "stdout",
     "output_type": "stream",
     "text": [
      "The value of n1: 5 The value of n2: 6 The sum is: 11\n"
     ]
    }
   ],
   "source": [
    "n1=5                             \n",
    "n2=6\n",
    "print(\"The value of n1:\",n1 ,\"The value of n2:\",n2 ,\"The sum is:\",n1+n2)"
   ]
  },
  {
   "cell_type": "markdown",
   "id": "2b0f2eae",
   "metadata": {},
   "source": [
    "## Addition of two integer numbers with user input"
   ]
  },
  {
   "cell_type": "code",
   "execution_count": 4,
   "id": "186a4b11",
   "metadata": {},
   "outputs": [
    {
     "name": "stdout",
     "output_type": "stream",
     "text": [
      "The value of a:58\n",
      "The value of b:52\n",
      "Addition is: 110\n"
     ]
    }
   ],
   "source": [
    "a=int(input(\"The value of a:\"))\n",
    "b=int(input(\"The value of b:\"))\n",
    "print(\"Addition is:\",a+b)"
   ]
  },
  {
   "cell_type": "markdown",
   "id": "ea9b52c8",
   "metadata": {},
   "source": [
    "## Addition of  two float numbers "
   ]
  },
  {
   "cell_type": "code",
   "execution_count": 5,
   "id": "13f083d7",
   "metadata": {},
   "outputs": [
    {
     "name": "stdout",
     "output_type": "stream",
     "text": [
      "Addition is: 10.0\n"
     ]
    }
   ],
   "source": [
    "a=2.5\n",
    "b=7.5\n",
    "print(\"Addition is:\",a+b)"
   ]
  },
  {
   "cell_type": "markdown",
   "id": "e5c70432",
   "metadata": {},
   "source": [
    "## Addition of two float numbers with user input"
   ]
  },
  {
   "cell_type": "code",
   "execution_count": 1,
   "id": "456bcd48",
   "metadata": {},
   "outputs": [
    {
     "name": "stdout",
     "output_type": "stream",
     "text": [
      "Enter first number:58.9\n",
      "Enter second number:54.5\n",
      "Addition is: 113.4\n"
     ]
    }
   ],
   "source": [
    "a=float(input(\"Enter first number:\"))\n",
    "b=float(input(\"Enter second number:\"))\n",
    "print(\"Addition is:\",a+b)\n"
   ]
  },
  {
   "cell_type": "markdown",
   "id": "f5056f3e",
   "metadata": {},
   "source": [
    "## Driver code "
   ]
  },
  {
   "cell_type": "code",
   "execution_count": 2,
   "id": "b2b23002",
   "metadata": {},
   "outputs": [],
   "source": [
    "if __name__==\"__main__\":\n",
    "    n1=15\n",
    "    n2=15\n",
    "    "
   ]
  },
  {
   "cell_type": "code",
   "execution_count": 3,
   "id": "4523bcd2",
   "metadata": {},
   "outputs": [],
   "source": [
    "## Adding two numbers\n",
    "sum=lambda n1,n2:n1+n2"
   ]
  },
  {
   "cell_type": "code",
   "execution_count": 4,
   "id": "594a2dfd",
   "metadata": {},
   "outputs": [
    {
     "name": "stdout",
     "output_type": "stream",
     "text": [
      "sum of 15 and15 is 30;\n"
     ]
    }
   ],
   "source": [
    "# printing values\n",
    "print(\"sum of {0} and{1} is {2};\"  .format(n1,n2, sum(n1,n2)))"
   ]
  },
  {
   "cell_type": "markdown",
   "id": "d272d923",
   "metadata": {},
   "source": [
    "## Addition of two complex number"
   ]
  },
  {
   "cell_type": "code",
   "execution_count": 7,
   "id": "a1e051ef",
   "metadata": {},
   "outputs": [
    {
     "name": "stdout",
     "output_type": "stream",
     "text": [
      "Complex number 1: 3 +i2\n",
      "Complex number 2: 9 +i5\n",
      "Sum of complex number: 12 +i7\n"
     ]
    }
   ],
   "source": [
    "# User Defined Complex class\n",
    "class Complex:\n",
    "    # constructor to accept\n",
    "    # real and imaginary part\n",
    "    def __init__(self,tempReal,tempImaginary):\n",
    "        self.real=tempReal;\n",
    "        self.imaginary=tempImaginary;\n",
    "        \n",
    "    # Defining addComp() method\n",
    "    # for adding two complex number\n",
    "    def addComp(self,C1,C2):\n",
    "        \n",
    "        # creating temporary variable\n",
    "        temp=Complex(0,0)\n",
    "        \n",
    "        \n",
    "        # adding real part of complex numbers\n",
    "        temp.real=C1.real+C2.real;\n",
    "        \n",
    "        # adding Imaginary part of complex numbers\n",
    "        temp.imaginary=C1.imaginary+C2.imaginary;\n",
    "        \n",
    "        # returning the sum\n",
    "        return temp;\n",
    "# Driver code\n",
    "if __name__=='__main__':\n",
    "    \n",
    "    # First Complex number\n",
    "    C1=Complex(3,2);\n",
    "    \n",
    "    # printing first complex number\n",
    "    print(\"Complex number 1:\",C1.real,\"+i\"+str(C1.imaginary))\n",
    "    \n",
    "    # Second Complex number\n",
    "    C2=Complex(9,5);\n",
    "    \n",
    "    # printing second complex number\n",
    "    print(\"Complex number 2:\",C2.real,\"+i\"+str(C2.imaginary))\n",
    "    \n",
    "    # for storing the sum\n",
    "    C3=Complex(0,0)\n",
    "    \n",
    "    # Calling addComp()method\n",
    "    C3=C3.addComp(C1,C2);\n",
    "    \n",
    "    # printing the sum\n",
    "    print(\"Sum of complex number:\",C3.real,\"+i\"+str(C3.imaginary))\n",
    "    "
   ]
  },
  {
   "cell_type": "markdown",
   "id": "34394f9e",
   "metadata": {},
   "source": [
    "## Python Program for factorial of a number\n"
   ]
  },
  {
   "cell_type": "code",
   "execution_count": 8,
   "id": "789a12f8",
   "metadata": {},
   "outputs": [
    {
     "name": "stdout",
     "output_type": "stream",
     "text": [
      "Factorial of 5 is 120\n"
     ]
    }
   ],
   "source": [
    "# factorial of given number\n",
    "def factorial(n):\n",
    "    \n",
    "    #single line to find factorial\n",
    "    return 1 if (n==1 or n==0) else n*factorial(n-1);\n",
    "\n",
    "# Driver Code\n",
    "n=5;\n",
    "print(\"Factorial of\",n,\"is\",factorial(n))"
   ]
  },
  {
   "cell_type": "markdown",
   "id": "044cee3e",
   "metadata": {},
   "source": [
    "## Basic slicing program"
   ]
  },
  {
   "cell_type": "code",
   "execution_count": 6,
   "id": "12c21396",
   "metadata": {},
   "outputs": [
    {
     "name": "stdout",
     "output_type": "stream",
     "text": [
      "Abhay sir \n",
      "Abhay sir is good teacher\n"
     ]
    }
   ],
   "source": [
    "a=\"Abhay sir is good teacher.\"\n",
    "print(a[0:10])\n",
    "# prints the value of 0th indices to 9th indice\n",
    "print(a[:-1])"
   ]
  },
  {
   "cell_type": "markdown",
   "id": "500ce6bc",
   "metadata": {},
   "source": [
    "## Basic for loop "
   ]
  },
  {
   "cell_type": "code",
   "execution_count": 7,
   "id": "9acac42e",
   "metadata": {},
   "outputs": [
    {
     "name": "stdout",
     "output_type": "stream",
     "text": [
      "Data Science\n",
      "Data Science\n",
      "Data Science\n"
     ]
    }
   ],
   "source": [
    "for a in range(3):\n",
    "    print(\"Data Science\")"
   ]
  },
  {
   "cell_type": "code",
   "execution_count": 4,
   "id": "0508f9e3",
   "metadata": {},
   "outputs": [
    {
     "name": "stdout",
     "output_type": "stream",
     "text": [
      "My name is Sushil C\n",
      "My name is Sushil l\n",
      "My name is Sushil e\n",
      "My name is Sushil v\n",
      "My name is Sushil e\n",
      "My name is Sushil r\n"
     ]
    }
   ],
   "source": [
    "for x in \"Clever\":\n",
    "    print(\"My name is Sushil\",x)"
   ]
  },
  {
   "cell_type": "markdown",
   "id": "6f12bc57",
   "metadata": {},
   "source": [
    "## Program for check the number is even or odd"
   ]
  },
  {
   "cell_type": "code",
   "execution_count": 5,
   "id": "54974726",
   "metadata": {},
   "outputs": [
    {
     "name": "stdout",
     "output_type": "stream",
     "text": [
      "Enter value:22\n",
      "22 Is even\n",
      "Enter value:28\n",
      "28 Is even\n",
      "Enter value:35\n",
      "35 Is odd\n"
     ]
    }
   ],
   "source": [
    "for c in range (3):\n",
    "    a=int(input(\"Enter value:\"))\n",
    "    if a % 2==0:\n",
    "        print(a,\"Is even\")\n",
    "    else:\n",
    "        print(a,\"Is odd\")"
   ]
  },
  {
   "cell_type": "markdown",
   "id": "f1fe1ceb",
   "metadata": {},
   "source": [
    "## Program for check the number is prime or not"
   ]
  },
  {
   "cell_type": "code",
   "execution_count": 7,
   "id": "1db3c74a",
   "metadata": {},
   "outputs": [
    {
     "name": "stdout",
     "output_type": "stream",
     "text": [
      "Enter number:98\n",
      "98 is not a prime number\n"
     ]
    }
   ],
   "source": [
    "a=int(input(\"Enter number:\"))\n",
    "for k in range(2,a):\n",
    "    \n",
    "    if a>1:\n",
    "        if (a % k)==0:\n",
    "            print(a,\"is not a prime number\")\n",
    "    else:\n",
    "        print(\"is a prime number\")\n",
    "    break\n",
    "    "
   ]
  },
  {
   "cell_type": "code",
   "execution_count": 7,
   "id": "4a424d1a",
   "metadata": {},
   "outputs": [
    {
     "name": "stdout",
     "output_type": "stream",
     "text": [
      "0 :-Abhay sir is good teacher\n",
      "1 :-Abhay sir is good teacher\n",
      "2 :-Abhay sir is good teacher\n",
      "3 :-Abhay sir is good teacher\n",
      "4 :-Abhay sir is good teacher\n"
     ]
    }
   ],
   "source": [
    "for a in range (5):\n",
    "    print(a,\":-Abhay sir is good teacher\")"
   ]
  },
  {
   "cell_type": "markdown",
   "id": "adca1364",
   "metadata": {},
   "source": [
    "## For loop with input method"
   ]
  },
  {
   "cell_type": "code",
   "execution_count": 1,
   "id": "4766c65e",
   "metadata": {},
   "outputs": [
    {
     "name": "stdout",
     "output_type": "stream",
     "text": [
      "Enter number:2\n",
      "Enter number:4\n",
      "6\n",
      "Enter number:5\n",
      "Enter number:3\n",
      "8\n"
     ]
    }
   ],
   "source": [
    "for a in range(2):\n",
    "    b=int(input(\"Enter number:\"))\n",
    "    c=int(input(\"Enter number:\"))\n",
    "    d=b+c\n",
    "    print(d)"
   ]
  },
  {
   "cell_type": "markdown",
   "id": "8766053a",
   "metadata": {},
   "source": [
    "## Double for loop"
   ]
  },
  {
   "cell_type": "code",
   "execution_count": 6,
   "id": "22caae31",
   "metadata": {},
   "outputs": [
    {
     "name": "stdout",
     "output_type": "stream",
     "text": [
      "Hello\n",
      "Hello\n",
      "Hello\n",
      "Hello\n",
      "Hello\n",
      "Hello\n",
      "Hello\n",
      "Hello\n",
      "Hello\n"
     ]
    }
   ],
   "source": [
    "b=\"cat\"\n",
    "for a in b:\n",
    "    for b in \"dog\":\n",
    "        print(\"Hello\")"
   ]
  },
  {
   "cell_type": "markdown",
   "id": "ff946957",
   "metadata": {},
   "source": [
    "## Maximum of two numbers in Python"
   ]
  },
  {
   "cell_type": "code",
   "execution_count": 8,
   "id": "14dec15a",
   "metadata": {},
   "outputs": [
    {
     "name": "stdout",
     "output_type": "stream",
     "text": [
      "7\n"
     ]
    }
   ],
   "source": [
    "a=[1,2,3,4,5,6,7]\n",
    "print(max(a))"
   ]
  },
  {
   "cell_type": "markdown",
   "id": "dcd20b02",
   "metadata": {},
   "source": [
    "## Accesssing the data in set."
   ]
  },
  {
   "cell_type": "code",
   "execution_count": 9,
   "id": "08b7e800",
   "metadata": {},
   "outputs": [
    {
     "name": "stdout",
     "output_type": "stream",
     "text": [
      "c\n",
      "t\n"
     ]
    }
   ],
   "source": [
    "a=[\"cat\",\"dog\",\"bat\",\"owl\"]\n",
    "c=a[0][0]\n",
    "print(c)\n",
    "print(a[0][2])"
   ]
  },
  {
   "cell_type": "markdown",
   "id": "b8a71ff9",
   "metadata": {},
   "source": [
    "## Working with if else statement"
   ]
  },
  {
   "cell_type": "code",
   "execution_count": 8,
   "id": "1eee2f5e",
   "metadata": {},
   "outputs": [
    {
     "name": "stdout",
     "output_type": "stream",
     "text": [
      "Enter the marks:63\n",
      "You are passed....\n"
     ]
    }
   ],
   "source": [
    "m=int(input(\"Enter the marks:\"))\n",
    "\n",
    "if m>0 and m<35:\n",
    "    print(\"You are failed ....\")\n",
    "else:\n",
    "    print(\"You are passed....\")"
   ]
  },
  {
   "cell_type": "markdown",
   "id": "bd093dce",
   "metadata": {},
   "source": [
    "## Working with list"
   ]
  },
  {
   "cell_type": "code",
   "execution_count": 11,
   "id": "05fce591",
   "metadata": {},
   "outputs": [
    {
     "name": "stdout",
     "output_type": "stream",
     "text": [
      "['Sager', 'Mahi', 'Rohit', 'Virat', 'Pritam']\n",
      "<class 'list'>\n",
      "5\n",
      "Sager\n"
     ]
    }
   ],
   "source": [
    "name=[\"Sager\",\"Mahi\",\"Rohit\",\"Virat\",\"Pritam\"]\n",
    "print(name)\n",
    "print(type(name))\n",
    "print(len(name))\n",
    "print(name[0])"
   ]
  },
  {
   "cell_type": "code",
   "execution_count": 12,
   "id": "88870006",
   "metadata": {},
   "outputs": [
    {
     "name": "stdout",
     "output_type": "stream",
     "text": [
      "['Sager', 'Mahi', 'Rohit']\n"
     ]
    }
   ],
   "source": [
    "name=[\"Sager\",\"Mahi\",\"Rohit\",\"Virat\",\"Pritam\"]\n",
    "ab=name[:3]\n",
    "print(ab)\n"
   ]
  },
  {
   "cell_type": "markdown",
   "id": "8f99aec2",
   "metadata": {},
   "source": [
    "###  Insert in list"
   ]
  },
  {
   "cell_type": "code",
   "execution_count": 13,
   "id": "a8c9baff",
   "metadata": {},
   "outputs": [
    {
     "name": "stdout",
     "output_type": "stream",
     "text": [
      "['Sager', 'Mahi', 'Rohit', 'Virat', 'Pritam', 'Hardik']\n"
     ]
    }
   ],
   "source": [
    "name=[\"Sager\",\"Mahi\",\"Rohit\",\"Virat\",\"Pritam\"]\n",
    "name.append(\"Hardik\")\n",
    "print(name)"
   ]
  },
  {
   "cell_type": "code",
   "execution_count": 14,
   "id": "5704bf94",
   "metadata": {},
   "outputs": [
    {
     "name": "stdout",
     "output_type": "stream",
     "text": [
      "Enter the value...Pooja\n",
      "['Sager', 'Mahi', 'Rohit', 'Virat', 'Pritam', 'Pooja']\n"
     ]
    }
   ],
   "source": [
    "ab=input(\"Enter the value...\")             # User input\n",
    "name=[\"Sager\",\"Mahi\",\"Rohit\",\"Virat\",\"Pritam\"]\n",
    "name.append(ab)\n",
    "print(name)"
   ]
  },
  {
   "cell_type": "code",
   "execution_count": 15,
   "id": "99918e62",
   "metadata": {},
   "outputs": [
    {
     "name": "stdout",
     "output_type": "stream",
     "text": [
      "Enter the value...Revati\n",
      "['Sager', 'Revati', 'Mahi', 'Rohit', 'Virat', 'Pritam']\n"
     ]
    }
   ],
   "source": [
    "ab=input(\"Enter the value...\")             # User input\n",
    "name=[\"Sager\",\"Mahi\",\"Rohit\",\"Virat\",\"Pritam\"]\n",
    "name.insert(1,ab)\n",
    "print(name)"
   ]
  },
  {
   "cell_type": "code",
   "execution_count": 16,
   "id": "3266d6e2",
   "metadata": {},
   "outputs": [
    {
     "name": "stdout",
     "output_type": "stream",
     "text": [
      "['Sager', 'Mahi', 'Rohit', 'Virat']\n"
     ]
    }
   ],
   "source": [
    "name=[\"Sager\",\"Mahi\",\"Rohit\",\"Virat\",\"Pritam\"]\n",
    "name.pop()\n",
    "print(name)"
   ]
  },
  {
   "cell_type": "code",
   "execution_count": 17,
   "id": "d4efbc30",
   "metadata": {},
   "outputs": [
    {
     "name": "stdout",
     "output_type": "stream",
     "text": [
      "['Sager', 'Mahi', 'Virat', 'Pritam']\n"
     ]
    }
   ],
   "source": [
    "name=[\"Sager\",\"Mahi\",\"Rohit\",\"Virat\",\"Pritam\"]\n",
    "name.remove(\"Rohit\")\n",
    "print(name)"
   ]
  },
  {
   "cell_type": "code",
   "execution_count": 18,
   "id": "56d47ba3",
   "metadata": {},
   "outputs": [
    {
     "data": {
      "text/plain": [
       "[]"
      ]
     },
     "execution_count": 18,
     "metadata": {},
     "output_type": "execute_result"
    }
   ],
   "source": [
    "name=[\"Sager\",\"Mahi\",\"Rohit\",\"Virat\",\"Pritam\"]\n",
    "name.clear()\n",
    "name"
   ]
  },
  {
   "cell_type": "code",
   "execution_count": 19,
   "id": "2dc6952c",
   "metadata": {},
   "outputs": [
    {
     "name": "stdout",
     "output_type": "stream",
     "text": [
      "\n"
     ]
    }
   ],
   "source": [
    "name=[\"Sager\",\"Mahi\",\"Rohit\",\"Virat\",\"Pritam\"]\n",
    "del name\n",
    "print()"
   ]
  },
  {
   "cell_type": "markdown",
   "id": "f9268ea2",
   "metadata": {},
   "source": [
    "## Working with Tuple"
   ]
  },
  {
   "cell_type": "code",
   "execution_count": 23,
   "id": "8d229f1e",
   "metadata": {},
   "outputs": [
    {
     "name": "stdout",
     "output_type": "stream",
     "text": [
      "('Sager', 'Rahul', 'Sahil')\n",
      "Sager\n",
      "<class 'tuple'>\n"
     ]
    }
   ],
   "source": [
    "ab=tuple()\n",
    "ab=(\"Sager\",\"Rahul\",\"Sahil\")\n",
    "print(ab)\n",
    "print(ab[0])\n",
    "print(type(ab))"
   ]
  },
  {
   "cell_type": "markdown",
   "id": "36261290",
   "metadata": {},
   "source": [
    "## Sets"
   ]
  },
  {
   "cell_type": "code",
   "execution_count": 24,
   "id": "5e96e7a2",
   "metadata": {},
   "outputs": [
    {
     "name": "stdout",
     "output_type": "stream",
     "text": [
      "{'Sahil', 'Sager', 'Rahul'}\n",
      "<class 'set'>\n"
     ]
    }
   ],
   "source": [
    "ab=set()\n",
    "ab={\"Rahul\",\"Sager\",\"Sahil\"}\n",
    "print(ab)\n",
    "print(type(ab))"
   ]
  },
  {
   "cell_type": "code",
   "execution_count": 26,
   "id": "2594387a",
   "metadata": {},
   "outputs": [
    {
     "name": "stdout",
     "output_type": "stream",
     "text": [
      "{'Sahil', 'Mobile', 'Sager', 'Rahul'}\n"
     ]
    }
   ],
   "source": [
    "ab.add(\"Mobile\")\n",
    "print(ab)"
   ]
  },
  {
   "cell_type": "code",
   "execution_count": 27,
   "id": "003b3680",
   "metadata": {},
   "outputs": [
    {
     "name": "stdout",
     "output_type": "stream",
     "text": [
      "Sahil\n",
      "Sager\n",
      "Rahul\n"
     ]
    }
   ],
   "source": [
    "ab={\"Rahul\",\"Sager\",\"Sahil\"}\n",
    "for x in ab:\n",
    "    print(x)"
   ]
  },
  {
   "cell_type": "markdown",
   "id": "d6621811",
   "metadata": {},
   "source": [
    "## Working with Dictionares"
   ]
  },
  {
   "cell_type": "code",
   "execution_count": 28,
   "id": "9095bb71",
   "metadata": {},
   "outputs": [
    {
     "name": "stdout",
     "output_type": "stream",
     "text": [
      "{'name': 'Sumit', 'Phone': 9852649785, 'City': 'Pune'}\n"
     ]
    }
   ],
   "source": [
    "tab={\n",
    "    \"name\":\"Sumit\",\n",
    "    \"Phone\":9852649785,\n",
    "    \"City\":\"Pune\"\n",
    "    \n",
    "}\n",
    "print(tab)"
   ]
  },
  {
   "cell_type": "code",
   "execution_count": 29,
   "id": "dbf1b27b",
   "metadata": {},
   "outputs": [],
   "source": [
    "tab[\"Class\"]=\"10th\""
   ]
  },
  {
   "cell_type": "code",
   "execution_count": 30,
   "id": "10556ebe",
   "metadata": {},
   "outputs": [
    {
     "data": {
      "text/plain": [
       "{'name': 'Sumit', 'Phone': 9852649785, 'City': 'Pune', 'Class': '10th'}"
      ]
     },
     "execution_count": 30,
     "metadata": {},
     "output_type": "execute_result"
    }
   ],
   "source": [
    "tab"
   ]
  },
  {
   "cell_type": "code",
   "execution_count": null,
   "id": "25f07be7",
   "metadata": {},
   "outputs": [],
   "source": []
  }
 ],
 "metadata": {
  "kernelspec": {
   "display_name": "Python 3 (ipykernel)",
   "language": "python",
   "name": "python3"
  },
  "language_info": {
   "codemirror_mode": {
    "name": "ipython",
    "version": 3
   },
   "file_extension": ".py",
   "mimetype": "text/x-python",
   "name": "python",
   "nbconvert_exporter": "python",
   "pygments_lexer": "ipython3",
   "version": "3.9.12"
  }
 },
 "nbformat": 4,
 "nbformat_minor": 5
}
