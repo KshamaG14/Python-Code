{
 "cells": [
  {
   "cell_type": "markdown",
   "id": "f08a45e7",
   "metadata": {},
   "source": [
    "## Function Defining"
   ]
  },
  {
   "cell_type": "code",
   "execution_count": 3,
   "id": "dabd8a61",
   "metadata": {},
   "outputs": [
    {
     "name": "stdout",
     "output_type": "stream",
     "text": [
      "Data Science.....\n"
     ]
    }
   ],
   "source": [
    "def person():                                # Function defining \n",
    "    print(\"Data Science.....\")\n",
    "person()                                     # Function calling"
   ]
  },
  {
   "cell_type": "code",
   "execution_count": 4,
   "id": "088c52b1",
   "metadata": {},
   "outputs": [
    {
     "name": "stdout",
     "output_type": "stream",
     "text": [
      "This is Addition: 50\n"
     ]
    }
   ],
   "source": [
    "def school():\n",
    "    a=20\n",
    "    b=30\n",
    "    print(\"This is Addition:\",a+b)\n",
    "school()"
   ]
  },
  {
   "cell_type": "markdown",
   "id": "5b28b4d2",
   "metadata": {},
   "source": [
    "### For Loop"
   ]
  },
  {
   "cell_type": "code",
   "execution_count": 5,
   "id": "4db310eb",
   "metadata": {},
   "outputs": [
    {
     "name": "stdout",
     "output_type": "stream",
     "text": [
      "This is Addition: 50\n",
      "This is Addition: 50\n",
      "This is Addition: 50\n"
     ]
    }
   ],
   "source": [
    "for x in range(3):\n",
    "    school()"
   ]
  },
  {
   "cell_type": "code",
   "execution_count": 7,
   "id": "01a4d458",
   "metadata": {},
   "outputs": [
    {
     "name": "stdout",
     "output_type": "stream",
     "text": [
      "Enter the value:50\n",
      "Enter the value:65\n",
      "Addition is: 115\n",
      "Enter the value:98\n",
      "Enter the value:97\n",
      "Addition is: 195\n",
      "Enter the value:87\n",
      "Enter the value:48\n",
      "Addition is: 135\n"
     ]
    }
   ],
   "source": [
    "def tab(a,b):\n",
    "    print(\"Addition is:\",a+b)\n",
    "for x in range(3):\n",
    "    a=int(input(\"Enter the value:\"))\n",
    "    b=int(input(\"Enter the value:\"))\n",
    "    tab(a,b)"
   ]
  },
  {
   "cell_type": "code",
   "execution_count": 8,
   "id": "5915e25e",
   "metadata": {},
   "outputs": [
    {
     "name": "stdout",
     "output_type": "stream",
     "text": [
      "Addition is: 143\n"
     ]
    }
   ],
   "source": [
    "tab(56,87)"
   ]
  },
  {
   "cell_type": "code",
   "execution_count": 4,
   "id": "46100000",
   "metadata": {},
   "outputs": [],
   "source": [
    "def person(a,b):\n",
    "    if a>b:\n",
    "        print(\"a is greater than b\")"
   ]
  },
  {
   "cell_type": "code",
   "execution_count": 7,
   "id": "314ad088",
   "metadata": {},
   "outputs": [
    {
     "name": "stdout",
     "output_type": "stream",
     "text": [
      "a is greater than b\n"
     ]
    }
   ],
   "source": [
    "person(20,15)"
   ]
  },
  {
   "cell_type": "code",
   "execution_count": 8,
   "id": "87a967ae",
   "metadata": {},
   "outputs": [],
   "source": [
    "def person(a,b):\n",
    "    if a>b:\n",
    "        print(\"a is greater than b\")\n",
    "    else:\n",
    "        print(\"This is small.....\")"
   ]
  },
  {
   "cell_type": "code",
   "execution_count": 9,
   "id": "eec3c7a7",
   "metadata": {},
   "outputs": [
    {
     "name": "stdout",
     "output_type": "stream",
     "text": [
      "This is small.....\n"
     ]
    }
   ],
   "source": [
    "person(5,10)"
   ]
  },
  {
   "cell_type": "code",
   "execution_count": 10,
   "id": "3b74c366",
   "metadata": {},
   "outputs": [
    {
     "name": "stdout",
     "output_type": "stream",
     "text": [
      "Enter the value:55\n",
      "Enter the value:55\n",
      "This is small.....\n"
     ]
    }
   ],
   "source": [
    "a=int(input(\"Enter the value:\"))\n",
    "b=int(input(\"Enter the value:\"))\n",
    "person(a,b)"
   ]
  },
  {
   "cell_type": "markdown",
   "id": "aa521a7a",
   "metadata": {},
   "source": [
    "## Class"
   ]
  },
  {
   "cell_type": "code",
   "execution_count": 1,
   "id": "16b3765b",
   "metadata": {},
   "outputs": [
    {
     "name": "stdout",
     "output_type": "stream",
     "text": [
      "40\n"
     ]
    }
   ],
   "source": [
    "class school:\n",
    "    def name(self):\n",
    "        self.a=10\n",
    "        self.b=30\n",
    "    def show(self):\n",
    "        ab=self.a+self.b\n",
    "        print(ab)\n",
    "s1=school()\n",
    "s1.name()\n",
    "s1.show()"
   ]
  },
  {
   "cell_type": "code",
   "execution_count": 2,
   "id": "cee2a876",
   "metadata": {},
   "outputs": [
    {
     "name": "stdout",
     "output_type": "stream",
     "text": [
      "40\n"
     ]
    }
   ],
   "source": [
    "class school:\n",
    "    def name(self):\n",
    "        self.a=10\n",
    "        self.b=30\n",
    "    def show(self):\n",
    "        ab=self.a+self.b\n",
    "        print(ab)\n",
    "s1=school()\n",
    "s1.name()\n",
    "s1.show()"
   ]
  },
  {
   "cell_type": "code",
   "execution_count": 3,
   "id": "1fe011e7",
   "metadata": {},
   "outputs": [
    {
     "name": "stdout",
     "output_type": "stream",
     "text": [
      "Data Science\n"
     ]
    }
   ],
   "source": [
    "class school:\n",
    "    def name(self):\n",
    "        self.a=10\n",
    "        self.b=30\n",
    "    def show(self):\n",
    "        ab=self.a+self.b\n",
    "        print(ab)\n",
    "    def studs(self):\n",
    "        print(\"Data Science\")\n",
    "s1=school()\n",
    "s1.studs()"
   ]
  },
  {
   "cell_type": "code",
   "execution_count": 4,
   "id": "81b641ee",
   "metadata": {},
   "outputs": [
    {
     "name": "stdout",
     "output_type": "stream",
     "text": [
      "5\n",
      "Data Science\n",
      "Data Science\n",
      "Data Science\n",
      "Data Science\n",
      "Data Science\n"
     ]
    }
   ],
   "source": [
    "class school:\n",
    "    def name(self):\n",
    "        self.a=3\n",
    "        self.b=2\n",
    "    def show(self):\n",
    "        ab=self.a+self.b\n",
    "        print(ab)\n",
    "        return(ab)\n",
    "    def studs(self,v1):\n",
    "        for x in range(v1):\n",
    "            print(\"Data Science\")\n",
    "s1=school()\n",
    "s1.name()\n",
    "t1=s1.show()\n",
    "s1.studs(t1)"
   ]
  },
  {
   "cell_type": "code",
   "execution_count": 5,
   "id": "e924062b",
   "metadata": {},
   "outputs": [
    {
     "name": "stdout",
     "output_type": "stream",
     "text": [
      "30\n"
     ]
    }
   ],
   "source": [
    "class computer:\n",
    "    def __init__(self):\n",
    "        self.a=10\n",
    "        self.b=20\n",
    "        print(self.a+self.b)\n",
    "c=computer()"
   ]
  },
  {
   "cell_type": "code",
   "execution_count": 6,
   "id": "d0841c69",
   "metadata": {},
   "outputs": [
    {
     "name": "stdout",
     "output_type": "stream",
     "text": [
      "30\n"
     ]
    }
   ],
   "source": [
    "class computer:\n",
    "    def __init__(self):\n",
    "        self.a=10\n",
    "        self.b=20\n",
    "        print(self.a+self.b)\n",
    "    def show(self):\n",
    "        print(\"Machine Learning\")\n",
    "c=computer()"
   ]
  },
  {
   "cell_type": "code",
   "execution_count": 7,
   "id": "d2399d57",
   "metadata": {},
   "outputs": [
    {
     "name": "stdout",
     "output_type": "stream",
     "text": [
      "30\n",
      "Machine Learning\n"
     ]
    }
   ],
   "source": [
    "class computer:\n",
    "    def __init__(self):\n",
    "        self.a=10\n",
    "        self.b=20\n",
    "        print(self.a+self.b)\n",
    "    def show(self):\n",
    "        print(\"Machine Learning\")\n",
    "c=computer()\n",
    "c.show()"
   ]
  },
  {
   "cell_type": "code",
   "execution_count": 8,
   "id": "f4fd6ff5",
   "metadata": {},
   "outputs": [
    {
     "name": "stdout",
     "output_type": "stream",
     "text": [
      "5\n",
      "6\n",
      "11\n",
      "Machine Learning\n"
     ]
    }
   ],
   "source": [
    "class computer:\n",
    "    def __init__(self,p1,p2):\n",
    "        self.a=c1\n",
    "        self.b=c2\n",
    "        print(self.a+self.b)\n",
    "    def show(self):\n",
    "        print(\"Machine Learning\")\n",
    "c1=int(input())\n",
    "c2=int(input())\n",
    "c=computer(c1,c2)\n",
    "c.show()"
   ]
  },
  {
   "cell_type": "code",
   "execution_count": 9,
   "id": "9b7c05c2",
   "metadata": {},
   "outputs": [
    {
     "name": "stdout",
     "output_type": "stream",
     "text": [
      "9\n",
      "159\n",
      "Machine Learning\n"
     ]
    }
   ],
   "source": [
    "class computer:\n",
    "    def __init__(self,p1,p2=150):\n",
    "        self.a=c1\n",
    "        self.b=p2\n",
    "        print(self.a+self.b)\n",
    "    def show(self):\n",
    "        print(\"Machine Learning\")\n",
    "c1=int(input())\n",
    "\n",
    "c=computer(c1)\n",
    "c.show()"
   ]
  },
  {
   "cell_type": "code",
   "execution_count": null,
   "id": "4384d031",
   "metadata": {},
   "outputs": [],
   "source": []
  }
 ],
 "metadata": {
  "kernelspec": {
   "display_name": "Python 3 (ipykernel)",
   "language": "python",
   "name": "python3"
  },
  "language_info": {
   "codemirror_mode": {
    "name": "ipython",
    "version": 3
   },
   "file_extension": ".py",
   "mimetype": "text/x-python",
   "name": "python",
   "nbconvert_exporter": "python",
   "pygments_lexer": "ipython3",
   "version": "3.9.12"
  }
 },
 "nbformat": 4,
 "nbformat_minor": 5
}
