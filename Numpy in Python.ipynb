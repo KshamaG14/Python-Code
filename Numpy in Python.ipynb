{
 "cells": [
  {
   "cell_type": "code",
   "execution_count": 1,
   "id": "d41de174",
   "metadata": {},
   "outputs": [],
   "source": [
    "import numpy as np"
   ]
  },
  {
   "cell_type": "markdown",
   "id": "e5810ceb",
   "metadata": {},
   "source": [
    "## Array in numpy"
   ]
  },
  {
   "cell_type": "code",
   "execution_count": 2,
   "id": "97c83ab3",
   "metadata": {},
   "outputs": [
    {
     "name": "stdout",
     "output_type": "stream",
     "text": [
      "[20 30 40 50]\n"
     ]
    }
   ],
   "source": [
    "a=np.array([20,30,40,50])\n",
    "print(a)"
   ]
  },
  {
   "cell_type": "code",
   "execution_count": 5,
   "id": "f086a3a3",
   "metadata": {},
   "outputs": [
    {
     "name": "stdout",
     "output_type": "stream",
     "text": [
      "<class 'numpy.ndarray'>\n",
      "int32\n"
     ]
    }
   ],
   "source": [
    "a=np.array([20,30,40,50])\n",
    "print(type(a))                               \n",
    "print(a.dtype)                                # To check data type"
   ]
  },
  {
   "cell_type": "code",
   "execution_count": 6,
   "id": "2118aa9c",
   "metadata": {},
   "outputs": [
    {
     "name": "stdout",
     "output_type": "stream",
     "text": [
      "[ 2.2 30.  40.  50. ]\n",
      "float64\n"
     ]
    }
   ],
   "source": [
    "a=np.array([2.20,30,40,50])\n",
    "print(a)\n",
    "print(a.dtype)"
   ]
  },
  {
   "cell_type": "code",
   "execution_count": 7,
   "id": "817a4b7b",
   "metadata": {},
   "outputs": [
    {
     "name": "stdout",
     "output_type": "stream",
     "text": [
      "['2' '30' '40' '50']\n",
      "<U11\n"
     ]
    }
   ],
   "source": [
    "a=np.array([\"2\",30,40,50])\n",
    "print(a)\n",
    "print(a.dtype)"
   ]
  },
  {
   "cell_type": "markdown",
   "id": "490bb74e",
   "metadata": {},
   "source": [
    "## Working with array dimension"
   ]
  },
  {
   "cell_type": "code",
   "execution_count": 8,
   "id": "95dcdcf8",
   "metadata": {},
   "outputs": [
    {
     "name": "stdout",
     "output_type": "stream",
     "text": [
      "['2' '30' '40' '50']\n",
      "1\n"
     ]
    }
   ],
   "source": [
    "a=np.array([\"2\",30,40,50])\n",
    "print(a)\n",
    "print(a.ndim)"
   ]
  },
  {
   "cell_type": "code",
   "execution_count": 9,
   "id": "9c2af158",
   "metadata": {},
   "outputs": [
    {
     "name": "stdout",
     "output_type": "stream",
     "text": [
      "90\n",
      "0\n"
     ]
    }
   ],
   "source": [
    "# 0dim\n",
    "ab=np.array(90)\n",
    "print(ab)\n",
    "print(ab.ndim)"
   ]
  },
  {
   "cell_type": "code",
   "execution_count": 10,
   "id": "2d44d73b",
   "metadata": {},
   "outputs": [
    {
     "name": "stdout",
     "output_type": "stream",
     "text": [
      "[90]\n",
      "1\n"
     ]
    }
   ],
   "source": [
    "ab=np.array([90])\n",
    "print(ab)\n",
    "print(ab.ndim)"
   ]
  },
  {
   "cell_type": "code",
   "execution_count": 12,
   "id": "c5c89432",
   "metadata": {},
   "outputs": [
    {
     "name": "stdout",
     "output_type": "stream",
     "text": [
      "[[[2 3 4 5]]\n",
      "\n",
      " [[2 3 4 5]]]\n",
      "3\n",
      "(2, 1, 4)\n"
     ]
    }
   ],
   "source": [
    "ab=np.array([[[2,3,4,5]],[[2,3,4,5]]])\n",
    "print(ab)\n",
    "print(ab.ndim)\n",
    "print(ab.shape)                     # Working with shape"
   ]
  },
  {
   "cell_type": "code",
   "execution_count": 13,
   "id": "a3761786",
   "metadata": {},
   "outputs": [
    {
     "name": "stdout",
     "output_type": "stream",
     "text": [
      "[[0. 0.]\n",
      " [0. 0.]]\n"
     ]
    }
   ],
   "source": [
    "# creating zeros array\n",
    "ab=np.zeros([2,2])\n",
    "print(ab)"
   ]
  },
  {
   "cell_type": "code",
   "execution_count": 14,
   "id": "8ecd3952",
   "metadata": {},
   "outputs": [
    {
     "name": "stdout",
     "output_type": "stream",
     "text": [
      "[[0. 0. 0. 0. 0.]\n",
      " [0. 0. 0. 0. 0.]\n",
      " [0. 0. 0. 0. 0.]\n",
      " [0. 0. 0. 0. 0.]]\n"
     ]
    }
   ],
   "source": [
    "ab=np.zeros([4,5])\n",
    "print(ab)"
   ]
  },
  {
   "cell_type": "code",
   "execution_count": 15,
   "id": "7e2c9eab",
   "metadata": {},
   "outputs": [
    {
     "name": "stdout",
     "output_type": "stream",
     "text": [
      "[[1. 1. 1. 1. 1.]\n",
      " [1. 1. 1. 1. 1.]\n",
      " [1. 1. 1. 1. 1.]\n",
      " [1. 1. 1. 1. 1.]]\n"
     ]
    }
   ],
   "source": [
    "# Creating ones array\n",
    "ab=np.ones([4,5])\n",
    "print(ab)"
   ]
  },
  {
   "cell_type": "code",
   "execution_count": 16,
   "id": "840e9ed4",
   "metadata": {},
   "outputs": [
    {
     "data": {
      "text/plain": [
       "array([[21, 32, 31, 24],\n",
       "       [15, 61, 51, 17]])"
      ]
     },
     "execution_count": 16,
     "metadata": {},
     "output_type": "execute_result"
    }
   ],
   "source": [
    "# Array Reshape\n",
    "a=np.array([21,32,31,24,15,61,51,17])\n",
    "ab=a.reshape(2,4)\n",
    "ab"
   ]
  },
  {
   "cell_type": "code",
   "execution_count": 17,
   "id": "e720c25a",
   "metadata": {},
   "outputs": [
    {
     "name": "stdout",
     "output_type": "stream",
     "text": [
      "[17 22 15 61 99]\n"
     ]
    }
   ],
   "source": [
    "# Working with array Slicing\n",
    "a=np.array([15,61,51,17,22,15,61,99])\n",
    "print(a[3:])"
   ]
  },
  {
   "cell_type": "code",
   "execution_count": 18,
   "id": "6565de0b",
   "metadata": {},
   "outputs": [
    {
     "name": "stdout",
     "output_type": "stream",
     "text": [
      "15\n",
      "61\n"
     ]
    }
   ],
   "source": [
    "a=np.array([15,61,51,17,22,15,61,99])\n",
    "print(a[0])\n",
    "print(a[1])"
   ]
  },
  {
   "cell_type": "code",
   "execution_count": 19,
   "id": "73a581ae",
   "metadata": {},
   "outputs": [
    {
     "name": "stdout",
     "output_type": "stream",
     "text": [
      "[15 61 51 17 22 15 61 99]\n",
      "[22 31 13 14 25 16 66 89]\n"
     ]
    }
   ],
   "source": [
    "a=np.array([[15,61,51,17,22,15,61,99],[22,31,13,14,25,16,66,89]])\n",
    "print(a[0])\n",
    "print(a[1])"
   ]
  },
  {
   "cell_type": "code",
   "execution_count": 20,
   "id": "fdd73abd",
   "metadata": {},
   "outputs": [
    {
     "name": "stdout",
     "output_type": "stream",
     "text": [
      "[22 31 13]\n",
      "22\n",
      "31\n",
      "13\n"
     ]
    }
   ],
   "source": [
    "a=np.array([[15,61,51,17,22,15,61,99],[22,31,13,14,25,16,66,89]])\n",
    "ab=a[-1,:3]\n",
    "print(ab)\n",
    "for x in ab:\n",
    "    print(x)"
   ]
  },
  {
   "cell_type": "code",
   "execution_count": 21,
   "id": "858f03c1",
   "metadata": {},
   "outputs": [
    {
     "data": {
      "text/plain": [
       "[array([15, 61]), array([51, 17]), array([22, 15]), array([61, 99])]"
      ]
     },
     "execution_count": 21,
     "metadata": {},
     "output_type": "execute_result"
    }
   ],
   "source": [
    "# Working with array spliting\n",
    "a=np.array([15,61,51,17,22,15,61,99])\n",
    "ab=np.array_split(a,4)\n",
    "ab"
   ]
  },
  {
   "cell_type": "code",
   "execution_count": 22,
   "id": "c74b61ac",
   "metadata": {},
   "outputs": [
    {
     "data": {
      "text/plain": [
       "[array([15]),\n",
       " array([61]),\n",
       " array([51]),\n",
       " array([17]),\n",
       " array([22]),\n",
       " array([15]),\n",
       " array([61]),\n",
       " array([99]),\n",
       " array([], dtype=int32),\n",
       " array([], dtype=int32)]"
      ]
     },
     "execution_count": 22,
     "metadata": {},
     "output_type": "execute_result"
    }
   ],
   "source": [
    "a=np.array([15,61,51,17,22,15,61,99])\n",
    "ab=np.array_split(a,10)\n",
    "ab"
   ]
  },
  {
   "cell_type": "code",
   "execution_count": null,
   "id": "cecbb656",
   "metadata": {},
   "outputs": [],
   "source": []
  }
 ],
 "metadata": {
  "kernelspec": {
   "display_name": "Python 3 (ipykernel)",
   "language": "python",
   "name": "python3"
  },
  "language_info": {
   "codemirror_mode": {
    "name": "ipython",
    "version": 3
   },
   "file_extension": ".py",
   "mimetype": "text/x-python",
   "name": "python",
   "nbconvert_exporter": "python",
   "pygments_lexer": "ipython3",
   "version": "3.9.12"
  }
 },
 "nbformat": 4,
 "nbformat_minor": 5
}
